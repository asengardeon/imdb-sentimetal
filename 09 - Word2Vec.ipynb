{
 "cells": [
  {
   "cell_type": "markdown",
   "id": "bab7bbee",
   "metadata": {},
   "source": [
    "https://radimrehurek.com/gensim/models/word2vec.html"
   ]
  },
  {
   "cell_type": "code",
   "execution_count": null,
   "id": "f6872ed4",
   "metadata": {
    "ExecuteTime": {
     "end_time": "2021-06-10T22:22:52.550513Z",
     "start_time": "2021-06-10T22:22:46.434127Z"
    }
   },
   "outputs": [],
   "source": [
    "!pip install gensim==3.8"
   ]
  },
  {
   "cell_type": "code",
   "execution_count": null,
   "id": "ee160ef0",
   "metadata": {
    "ExecuteTime": {
     "end_time": "2021-07-09T10:30:46.786277Z",
     "start_time": "2021-07-09T10:30:44.893415Z"
    }
   },
   "outputs": [],
   "source": [
    "from gensim.models import Word2Vec\n",
    "import gensim"
   ]
  },
  {
   "cell_type": "code",
   "execution_count": null,
   "id": "0894f16e",
   "metadata": {
    "ExecuteTime": {
     "end_time": "2021-07-09T10:30:47.438672Z",
     "start_time": "2021-07-09T10:30:47.364555Z"
    }
   },
   "outputs": [],
   "source": [
    "gensim.__version__"
   ]
  },
  {
   "cell_type": "code",
   "execution_count": null,
   "id": "9817f748",
   "metadata": {
    "ExecuteTime": {
     "end_time": "2021-07-09T10:30:49.360377Z",
     "start_time": "2021-07-09T10:30:49.356433Z"
    }
   },
   "outputs": [],
   "source": [
    "# dados\n",
    "data =  \"\"\"Em agosto, a Pfizer planeia pedir à Food and Drug Administration [entidade responsável pela aprovação de medicamentos] uma autorização de emergência para uma terceira dose\", disse o cientista daquela farmacêutica Mikael Dolsten, em declarações à agência noticiosa norte-americana AP.\n",
    "\n",
    "De acordo com as primeiras impressões de um estudo de reforço de vacinação da Pfizer, é demonstrado que os níveis de anticorpos das pessoas aumentam de cinco para 10 vezes mais após uma terceira dose, em comparação com a segunda.\n",
    "\n",
    "Investigações em vários países mostram que as vacinas utilizadas contra a covid-19 oferecem forte proteção contra a variante delta, que é altamente contagiosa e está a espalhar-se rapidamente em todo o mundo.\n",
    "\n",
    "Os italianos do AC Milan não exerceram a opção de compra sobre Sandro Tonali, estipulada em 15 milhões, mas renegociaram para sete milhões mais outros cinco em bónus, dos quais três serão fáceis de atingir. O jogador também aceitou baixar o salário para integrar os quadros do clube.\n",
    "\n",
    "Em 2020/21 Tonali esteve no emblema italiano, por empréstimo do Brescia, e fica agora contratualmente ligado ao clube de Milão até 2026. Na temporada passada o jogador de 21 anos esteve presente em 37 encontros, mas não fez qualquer golo.\n",
    "\n",
    "Filmes sobre Jane Birkin, Val Kilmer e os Velvet Underground são o melhor que se viu até agora na Croisette\n",
    "\n",
    "Quando em 2002 Michael Moore venceu a Palma de Ouro de Cannes com \"Bowling for Columbine\", redefiniu a forma como o documentário é visto no mundo do cinema. Demonstrou, além do seu lado interventivo e \"documental\", passe o pleonasmo, o seu potencial enquanto espetáculo e, porque não dizê-lo, entretenimento.\n",
    "\n",
    "Quase vinte anos depois, três dias volvidos sobre o início da 74ª edição de Cannes, são os documentários que mais bem têm sido recebidos, com salas cheias de profissionais do cinema e muito público, sobretudo jovem.\"\"\".split('\\n')"
   ]
  },
  {
   "cell_type": "code",
   "execution_count": null,
   "id": "e719d1a2",
   "metadata": {
    "ExecuteTime": {
     "end_time": "2021-07-09T10:30:57.174111Z",
     "start_time": "2021-07-09T10:30:57.159417Z"
    }
   },
   "outputs": [],
   "source": [
    "preproc_data = [gensim.utils.simple_preprocess(row) for row in data]"
   ]
  },
  {
   "cell_type": "code",
   "execution_count": null,
   "id": "76ca9106",
   "metadata": {
    "ExecuteTime": {
     "end_time": "2021-07-09T10:34:53.068383Z",
     "start_time": "2021-07-09T10:34:53.064344Z"
    }
   },
   "outputs": [],
   "source": [
    "embedding_dim = 100\n",
    "window_size = 10\n",
    "min_count = 1"
   ]
  },
  {
   "cell_type": "code",
   "execution_count": null,
   "id": "ec239810",
   "metadata": {
    "ExecuteTime": {
     "end_time": "2021-07-09T10:34:53.805864Z",
     "start_time": "2021-07-09T10:34:53.727685Z"
    }
   },
   "outputs": [],
   "source": [
    "model = Word2Vec(sentences=preproc_data, size=embedding_dim, window=window_size, min_count=min_count, workers=4)\n",
    "word_vectors = model.wv"
   ]
  },
  {
   "cell_type": "code",
   "execution_count": null,
   "id": "af3442ea",
   "metadata": {
    "ExecuteTime": {
     "end_time": "2021-07-09T10:36:34.827140Z",
     "start_time": "2021-07-09T10:36:34.819704Z"
    }
   },
   "outputs": [],
   "source": [
    "word_vectors.word_vec('pfizer')"
   ]
  },
  {
   "cell_type": "code",
   "execution_count": null,
   "id": "6231c790",
   "metadata": {
    "ExecuteTime": {
     "end_time": "2021-07-09T10:40:44.402171Z",
     "start_time": "2021-07-09T10:40:44.395098Z"
    }
   },
   "outputs": [],
   "source": [
    "word_vectors.most_similar('documentários')"
   ]
  },
  {
   "cell_type": "code",
   "execution_count": null,
   "id": "c4071cb9",
   "metadata": {
    "ExecuteTime": {
     "end_time": "2021-07-09T10:41:33.590891Z",
     "start_time": "2021-07-09T10:41:33.580334Z"
    }
   },
   "outputs": [],
   "source": [
    "word_vectors.most_similar(positive=['documentários'], negative=['pfizer'], topn=10)"
   ]
  },
  {
   "cell_type": "code",
   "execution_count": null,
   "id": "829e879e",
   "metadata": {
    "ExecuteTime": {
     "end_time": "2021-07-09T10:45:43.269945Z",
     "start_time": "2021-07-09T10:45:43.260738Z"
    }
   },
   "outputs": [],
   "source": [
    "from sklearn.manifold import TSNE\n",
    "import re\n",
    "import matplotlib.pyplot as plt\n",
    "\n",
    "#t-Distributed Stochastic Neighbor Embedding\n",
    "def tsne_plot(model):\n",
    "    \"Creates and TSNE model and plots it\"\n",
    "    labels = []\n",
    "    tokens = []\n",
    "\n",
    "    for word in model.wv.vocab:\n",
    "        tokens.append(model[word])\n",
    "        labels.append(word)\n",
    "    \n",
    "    tsne_model = TSNE(n_components=2, init='pca')\n",
    "    new_values = tsne_model.fit_transform(tokens)\n",
    "\n",
    "    x = []\n",
    "    y = []\n",
    "    for value in new_values:\n",
    "        x.append(value[0])\n",
    "        y.append(value[1])\n",
    "        \n",
    "    plt.figure(figsize=(16, 16)) \n",
    "    for i in range(len(x)):\n",
    "        plt.scatter(x[i],y[i])\n",
    "        plt.annotate(labels[i],\n",
    "                     xy=(x[i], y[i]),\n",
    "                     xytext=(5, 2),\n",
    "                     textcoords='offset points',\n",
    "                     ha='right',\n",
    "                     va='bottom')\n",
    "    plt.show()"
   ]
  },
  {
   "cell_type": "code",
   "execution_count": null,
   "id": "b6b5116f",
   "metadata": {
    "ExecuteTime": {
     "end_time": "2021-07-09T10:45:51.339861Z",
     "start_time": "2021-07-09T10:45:45.518225Z"
    }
   },
   "outputs": [],
   "source": [
    "tsne_plot(model)"
   ]
  }
 ],
 "metadata": {
  "kernelspec": {
   "display_name": "Python 3",
   "language": "python",
   "name": "python3"
  },
  "language_info": {
   "codemirror_mode": {
    "name": "ipython",
    "version": 3
   },
   "file_extension": ".py",
   "mimetype": "text/x-python",
   "name": "python",
   "nbconvert_exporter": "python",
   "pygments_lexer": "ipython3",
   "version": "3.8.7"
  }
 },
 "nbformat": 4,
 "nbformat_minor": 5
}
