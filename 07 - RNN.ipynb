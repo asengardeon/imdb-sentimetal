{
 "cells": [
  {
   "cell_type": "code",
   "execution_count": 2,
   "id": "db98c058",
   "metadata": {
    "ExecuteTime": {
     "end_time": "2021-07-08T22:30:20.841069Z",
     "start_time": "2021-07-08T22:30:18.158998Z"
    }
   },
   "outputs": [],
   "source": [
    "import torch\n",
    "from torch import nn\n",
    "import numpy as np\n",
    "import matplotlib.pyplot as plt\n",
    "%matplotlib inline"
   ]
  },
  {
   "cell_type": "code",
   "execution_count": 45,
   "id": "061a689b",
   "metadata": {
    "ExecuteTime": {
     "end_time": "2021-07-08T22:57:51.045016Z",
     "start_time": "2021-07-08T22:57:50.786901Z"
    }
   },
   "outputs": [
    {
     "data": {
      "image/png": "[encoded data removed]",
      "text/plain": [
       "<Figure size 576x360 with 1 Axes>"
      ]
     },
     "metadata": {
      "needs_background": "light"
     },
     "output_type": "display_data"
    }
   ],
   "source": [
    "\n",
    "seq_length = 20\n",
    "\n",
    "#dados\n",
    "\n",
    "time_steps = np.linspace(0, np.pi, seq_length + 1)\n",
    "data = np.sin(time_steps)\n",
    "\n",
    "#dimensao: (seq_length+1, 1)\n",
    "data.resize((seq_length + 1, 1)) \n",
    "\n",
    "#input\n",
    "x = data[:-1]\n",
    "#target\n",
    "y = data[1:]\n",
    "\n",
    "#display\n",
    "plt.figure(figsize=(8,5))\n",
    "plt.plot(time_steps[1:], x, 'r.', label='input, x')\n",
    "plt.plot(time_steps[1:], y, 'b.', label='target, y')\n",
    "\n",
    "plt.legend(loc='best')\n",
    "plt.show()"
   ]
  },
  {
   "cell_type": "code",
   "execution_count": 4,
   "id": "c1c9aa41",
   "metadata": {
    "ExecuteTime": {
     "end_time": "2021-07-08T22:30:22.002041Z",
     "start_time": "2021-07-08T22:30:21.988770Z"
    }
   },
   "outputs": [],
   "source": [
    "class RNN(nn.Module):\n",
    "    def __init__(self, input_size, output_size, hidden_dim, n_layers):\n",
    "        '''\n",
    "        input_size - dimensao da entrada\n",
    "        hidden_dim - numero de features\n",
    "        n_layers - numero de camadas RNN (usualmente entre 1 e 3)\n",
    "        '''\n",
    "        super(RNN, self).__init__()\n",
    "        self.hidden_dim=hidden_dim\n",
    "        #RNN\n",
    "        #batch_first - batch_size na primeira dimensão da entrada: (batch_size, seq_length, hidden_dim)\n",
    "        self.rnn = nn.RNN(input_size, hidden_dim, n_layers, batch_first=True)\n",
    "        #fully-connected\n",
    "        self.fc = nn.Linear(hidden_dim, output_size)\n",
    "\n",
    "        \n",
    "    def forward(self, x, hidden):\n",
    "        '''\n",
    "        x - (batch_size, seq_length, input_size)\n",
    "        hidden - (n_layers, batch_size, hidden_dim)\n",
    "        r_out - (batch_size, time_step, hidden_size)\n",
    "        '''\n",
    "        \n",
    "        batch_size = x.size(0)\n",
    "        \n",
    "        #Saida RNN\n",
    "        r_out, hidden = self.rnn(x, hidden)\n",
    "        \n",
    "        #reshape: (batch_size*seq_length, hidden_dim)\n",
    "        r_out = r_out.view(-1, self.hidden_dim)  \n",
    "        \n",
    "        #prediction\n",
    "        output = self.fc(r_out)\n",
    "        \n",
    "        return output, hidden"
   ]
  },
  {
   "cell_type": "code",
   "execution_count": 35,
   "id": "49758dd2",
   "metadata": {
    "ExecuteTime": {
     "end_time": "2021-07-08T22:47:14.901521Z",
     "start_time": "2021-07-08T22:47:14.876159Z"
    }
   },
   "outputs": [
    {
     "name": "stdout",
     "output_type": "stream",
     "text": [
      "Input size:  torch.Size([1, 20, 1])\n",
      "Output size:  torch.Size([20, 1])\n",
      "Hidden state size:  torch.Size([1, 1, 30])\n"
     ]
    }
   ],
   "source": [
    "test_rnn = RNN(input_size=1, output_size=1, hidden_dim=30, n_layers=1)\n",
    "\n",
    "#dados\n",
    "time_steps = np.linspace(0, np.pi, seq_length)\n",
    "data = np.sin(time_steps)\n",
    "data.resize((20, 1))\n",
    "\n",
    "#converte data para Tensor. batch_size = 1 na primeira dimensão\n",
    "test_input = torch.Tensor(data).unsqueeze(0) \n",
    "print('Input size: ', test_input.size())\n",
    "\n",
    "#Saida da RNN\n",
    "test_out, test_h = test_rnn(test_input,None )\n",
    "print('Output size: ', test_out.size())\n",
    "print('Hidden state size: ', test_h.size())"
   ]
  },
  {
   "cell_type": "code",
   "execution_count": 36,
   "id": "1e3231ed",
   "metadata": {
    "ExecuteTime": {
     "end_time": "2021-07-08T22:51:47.090894Z",
     "start_time": "2021-07-08T22:51:47.068996Z"
    }
   },
   "outputs": [],
   "source": [
    "n_steps = 90\n",
    "print_every = 100"
   ]
  },
  {
   "cell_type": "code",
   "execution_count": 58,
   "id": "1ffa95aa",
   "metadata": {
    "ExecuteTime": {
     "end_time": "2021-07-08T23:06:19.622631Z",
     "start_time": "2021-07-08T23:06:19.576778Z"
    }
   },
   "outputs": [],
   "source": [
    "def train(rnn, n_steps, print_every):\n",
    "    \n",
    "    # initializa o hidden state\n",
    "    hidden = None      \n",
    "\n",
    "    for batch_i, step in enumerate(range(n_steps)):\n",
    "        #dados de treino\n",
    "        time_steps = np.linspace(step * np.pi, (step+1)*np.pi, seq_length + 1)\n",
    "        data = np.sin(time_steps)\n",
    "        #input_size=1\n",
    "        data.resize((seq_length + 1, 1)) \n",
    "\n",
    "        x = data[:-1]\n",
    "        y = data[1:]\n",
    "\n",
    "        # converte data para Tensor, batch_size = 1\n",
    "        x_tensor = torch.Tensor(x).unsqueeze(0) \n",
    "        y_tensor = torch.Tensor(y)\n",
    "\n",
    "        #saida do bloco RNN\n",
    "        prediction, hidden = rnn(x_tensor, hidden)\n",
    "        hidden = hidden.data\n",
    "\n",
    "        # calcula loss\n",
    "        loss = criterion(prediction, y_tensor)\n",
    "        optimizer.zero_grad()\n",
    "\n",
    "        #backpropagation e atualização dos pesos\n",
    "        loss.backward()\n",
    "        optimizer.step()\n",
    "\n",
    "        #display\n",
    "        if batch_i%print_every == 0:        \n",
    "            print('Loss: ', loss.item())\n",
    "            plt.plot(time_steps[1:], x, 'r.')\n",
    "            plt.plot(time_steps[1:], prediction.data.numpy().flatten(), 'b.')\n",
    "            plt.show()\n",
    "\n",
    "    return rnn"
   ]
  },
  {
   "cell_type": "code",
   "execution_count": 59,
   "id": "52730e1b",
   "metadata": {
    "ExecuteTime": {
     "end_time": "2021-07-08T23:06:32.004074Z",
     "start_time": "2021-07-08T23:06:31.977782Z"
    }
   },
   "outputs": [
    {
     "name": "stdout",
     "output_type": "stream",
     "text": [
      "RNN(\n",
      "  (rnn): RNN(1, 5, batch_first=True)\n",
      "  (fc): Linear(in_features=5, out_features=1, bias=True)\n",
      ")\n"
     ]
    }
   ],
   "source": [
    "#hiperparametros\n",
    "input_size=1 \n",
    "output_size=1\n",
    "hidden_dim=5\n",
    "n_layers=1\n",
    "\n",
    "#RNN\n",
    "rnn = RNN(input_size, output_size, hidden_dim, n_layers)\n",
    "print(rnn)"
   ]
  },
  {
   "cell_type": "code",
   "execution_count": 60,
   "id": "7f87856f",
   "metadata": {
    "ExecuteTime": {
     "end_time": "2021-07-08T23:06:39.236380Z",
     "start_time": "2021-07-08T23:06:39.217201Z"
    }
   },
   "outputs": [],
   "source": [
    "# MSE loss, otimizador Adam e learning rate = 0.01\n",
    "criterion = nn.MSELoss()\n",
    "optimizer = torch.optim.Adam(rnn.parameters(), lr=0.01)"
   ]
  },
  {
   "cell_type": "code",
   "execution_count": 61,
   "id": "fb7aaabf",
   "metadata": {
    "ExecuteTime": {
     "end_time": "2021-07-08T23:06:46.974081Z",
     "start_time": "2021-07-08T23:06:45.784569Z"
    }
   },
   "outputs": [
    {
     "name": "stdout",
     "output_type": "stream",
     "text": [
      "Loss:  0.38133424520492554\n"
     ]
    },
    {
     "data": {
      "image/png": "[encoded data removed]",
      "text/plain": [
       "<Figure size 432x288 with 1 Axes>"
      ]
     },
     "metadata": {
      "needs_background": "light"
     },
     "output_type": "display_data"
    },
    {
     "name": "stdout",
     "output_type": "stream",
     "text": [
      "Loss:  0.05412216857075691\n"
     ]
    },
    {
     "data": {
      "image/png": "[encoded data removed]",
      "text/plain": [
       "<Figure size 432x288 with 1 Axes>"
      ]
     },
     "metadata": {
      "needs_background": "light"
     },
     "output_type": "display_data"
    },
    {
     "name": "stdout",
     "output_type": "stream",
     "text": [
      "Loss:  0.02243489772081375\n"
     ]
    },
    {
     "data": {
      "image/png": "[encoded data removed]",
      "text/plain": [
       "<Figure size 432x288 with 1 Axes>"
      ]
     },
     "metadata": {
      "needs_background": "light"
     },
     "output_type": "display_data"
    }
   ],
   "source": [
    "#treino\n",
    "n_steps = 90\n",
    "print_every = 30\n",
    "\n",
    "trained_rnn = train(rnn, n_steps, print_every)"
   ]
  },
  {
   "cell_type": "code",
   "execution_count": 110,
   "id": "38244405",
   "metadata": {
    "ExecuteTime": {
     "end_time": "2021-07-08T23:16:31.411099Z",
     "start_time": "2021-07-08T23:16:31.384389Z"
    },
    "hide_input": false
   },
   "outputs": [],
   "source": [
    "#predict\n",
    "x = np.linspace(0,np.pi,20)\n",
    "x.resize((len(x), 1)) \n",
    "x_tensor = torch.Tensor(x).unsqueeze(0) \n",
    "\n",
    "prediction, hidden = rnn(x_tensor, None)"
   ]
  },
  {
   "cell_type": "code",
   "execution_count": 111,
   "id": "b05f6afb",
   "metadata": {
    "ExecuteTime": {
     "end_time": "2021-07-08T23:16:32.577161Z",
     "start_time": "2021-07-08T23:16:32.345723Z"
    }
   },
   "outputs": [
    {
     "data": {
      "image/png": "[encoded data removed]",
      "text/plain": [
       "<Figure size 432x288 with 1 Axes>"
      ]
     },
     "metadata": {
      "needs_background": "light"
     },
     "output_type": "display_data"
    }
   ],
   "source": [
    "plt.plot(time_steps[:len(x)], x, 'r.')\n",
    "plt.plot(time_steps[:len(x)], prediction.data.numpy().flatten(), 'b.')\n",
    "plt.show()"
   ]
  }
 ],
 "metadata": {
  "kernelspec": {
   "display_name": "Python 3",
   "language": "python",
   "name": "python3"
  },
  "language_info": {
   "codemirror_mode": {
    "name": "ipython",
    "version": 3
   },
   "file_extension": ".py",
   "mimetype": "text/x-python",
   "name": "python",
   "nbconvert_exporter": "python",
   "pygments_lexer": "ipython3",
   "version": "3.8.7"
  }
 },
 "nbformat": 4,
 "nbformat_minor": 5
}
