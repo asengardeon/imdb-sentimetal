{
 "cells": [
  {
   "cell_type": "markdown",
   "id": "c80ceea5",
   "metadata": {},
   "source": [
    "https://nlp.stanford.edu/projects/glove/\n",
    "\n",
    "Download do modelo pré-treinado: https://www.kaggle.com/danielwillgeorge/glove6b100dtxt"
   ]
  },
  {
   "cell_type": "code",
   "execution_count": null,
   "id": "7b88daf7",
   "metadata": {
    "ExecuteTime": {
     "end_time": "2021-06-10T23:18:48.330029Z",
     "start_time": "2021-06-10T23:18:44.545286Z"
    }
   },
   "outputs": [],
   "source": [
    "from gensim.models import KeyedVectors\n",
    "from gensim.scripts.glove2word2vec import glove2word2vec\n",
    "import numpy as np"
   ]
  },
  {
   "cell_type": "code",
   "execution_count": null,
   "id": "e679e441",
   "metadata": {
    "ExecuteTime": {
     "end_time": "2021-06-10T23:18:59.583063Z",
     "start_time": "2021-06-10T23:18:48.359758Z"
    }
   },
   "outputs": [],
   "source": [
    "glove_input_file = 'data/glove.6B.100d.txt'\n",
    "word2vec_output_file = 'data/glove_word2vec.txt'\n",
    "glove2word2vec(glove_input_file, word2vec_output_file)"
   ]
  },
  {
   "cell_type": "code",
   "execution_count": null,
   "id": "0afbd431",
   "metadata": {
    "ExecuteTime": {
     "end_time": "2021-06-10T23:20:55.605344Z",
     "start_time": "2021-06-10T23:19:23.850820Z"
    }
   },
   "outputs": [],
   "source": [
    "model = KeyedVectors.load_word2vec_format(word2vec_output_file, binary=False)"
   ]
  },
  {
   "cell_type": "markdown",
   "id": "7757a3f2",
   "metadata": {
    "ExecuteTime": {
     "end_time": "2021-06-09T22:36:42.100096Z",
     "start_time": "2021-06-09T22:36:42.090397Z"
    }
   },
   "source": [
    "### Similaridade de Cosseno"
   ]
  },
  {
   "cell_type": "code",
   "execution_count": null,
   "id": "faf6139a",
   "metadata": {
    "ExecuteTime": {
     "end_time": "2021-06-10T23:30:50.041434Z",
     "start_time": "2021-06-10T23:30:50.009999Z"
    }
   },
   "outputs": [],
   "source": [
    "def cosine_similarity(w1,w2):\n",
    "    \n",
    "    # calcular o produto entre w1 e w2 \n",
    "    dot = #\n",
    "    \n",
    "    # calcular a norma L2 de w1\n",
    "    norm_w1 = #\n",
    "    \n",
    "    # calcular a norma L2 de w2\n",
    "    norm_w2 = #\n",
    "    \n",
    "    # calcular a similaridade de cosseno\n",
    "    cosine_similarity = #\n",
    "    \n",
    "    return cosine_similarity"
   ]
  },
  {
   "cell_type": "code",
   "execution_count": null,
   "id": "ced947a9",
   "metadata": {
    "ExecuteTime": {
     "end_time": "2021-06-10T23:31:35.483900Z",
     "start_time": "2021-06-10T23:31:35.465909Z"
    }
   },
   "outputs": [],
   "source": [
    "w1 = model.get_vector('woman')\n",
    "w2 = model.get_vector('men')\n",
    "cosine_similarity(w1,w2) 0.01"
   ]
  },
  {
   "cell_type": "code",
   "execution_count": null,
   "id": "9bc2640d",
   "metadata": {
    "ExecuteTime": {
     "end_time": "2021-06-10T23:38:40.021554Z",
     "start_time": "2021-06-10T23:38:37.303224Z"
    }
   },
   "outputs": [],
   "source": [
    "model.most_similar(positive=['woman','king'], negative=['man'])"
   ]
  },
  {
   "cell_type": "markdown",
   "id": "cb80b0fc",
   "metadata": {},
   "source": [
    "### Eliminando bias "
   ]
  },
  {
   "cell_type": "code",
   "execution_count": null,
   "id": "73568a4d",
   "metadata": {
    "ExecuteTime": {
     "end_time": "2021-06-10T23:41:49.948526Z",
     "start_time": "2021-06-10T23:41:49.902359Z"
    }
   },
   "outputs": [],
   "source": [
    "g = w1 - w2\n",
    "print(g)"
   ]
  },
  {
   "cell_type": "code",
   "execution_count": null,
   "id": "e4fce8f9",
   "metadata": {
    "ExecuteTime": {
     "end_time": "2021-06-10T23:43:18.633584Z",
     "start_time": "2021-06-10T23:43:18.614239Z"
    }
   },
   "outputs": [],
   "source": [
    "name_list = ['john', 'marie', 'sophie', 'ronaldo', 'priya', 'rahul', 'danielle', 'reza', 'katy', 'yasmin']\n",
    "\n",
    "for w in name_list:\n",
    "    print (w, cosine_similarity(model.get_vector(w), g))"
   ]
  },
  {
   "cell_type": "code",
   "execution_count": null,
   "id": "f876f34b",
   "metadata": {
    "ExecuteTime": {
     "end_time": "2021-06-10T23:45:42.396094Z",
     "start_time": "2021-06-10T23:45:42.301283Z"
    }
   },
   "outputs": [],
   "source": [
    "word_list = ['lipstick', 'guns', 'science', 'arts', 'literature', 'warrior','doctor', 'tree', 'receptionist', \n",
    "             'technology',  'fashion', 'teacher', 'engineer', 'pilot', 'computer', 'singer']\n",
    "for w in word_list:\n",
    "    print (w, cosine_similarity(model.get_vector(w), g))"
   ]
  },
  {
   "cell_type": "code",
   "execution_count": null,
   "id": "8beccf15",
   "metadata": {
    "ExecuteTime": {
     "end_time": "2021-06-10T23:51:01.026850Z",
     "start_time": "2021-06-10T23:51:01.020097Z"
    }
   },
   "outputs": [],
   "source": [
    "def neutralize(word, g):\n",
    "    e = model.get_vector(word)\n",
    "    e_biascomponent = np.dot(e ,g) / np.sum(g * g) * g\n",
    "    e_debiased = e - e_biascomponent\n",
    "    \n",
    "    return e_debiased"
   ]
  },
  {
   "cell_type": "code",
   "execution_count": null,
   "id": "23a10891",
   "metadata": {
    "ExecuteTime": {
     "end_time": "2021-06-10T23:51:24.530367Z",
     "start_time": "2021-06-10T23:51:24.521657Z"
    }
   },
   "outputs": [],
   "source": [
    "word = 'receptionist'\n",
    "print(cosine_similarity(model.get_vector(word), g))\n",
    "\n",
    "e_debiased = neutralize(word, g)\n",
    "print(cosine_similarity(e_debiased, g))"
   ]
  },
  {
   "cell_type": "code",
   "execution_count": null,
   "id": "0e068536",
   "metadata": {
    "ExecuteTime": {
     "end_time": "2021-06-10T23:52:43.071184Z",
     "start_time": "2021-06-10T23:52:43.037971Z"
    }
   },
   "outputs": [],
   "source": [
    "def equalize(e_w1, e_w2, bias_axis):\n",
    "    \n",
    "    mu = (e_w1 + e_w2) / 2\n",
    "\n",
    "    mu_B = np.dot(mu, bias_axis) / np.sum(bias_axis * bias_axis) * bias_axis\n",
    "    mu_orth = mu - mu_B\n",
    "\n",
    "    e_w1B = np.dot(e_w1, bias_axis) / np.sum(bias_axis * bias_axis) * bias_axis\n",
    "    e_w2B = np.dot(e_w2, bias_axis) / np.sum(bias_axis * bias_axis) * bias_axis\n",
    "        \n",
    "    corrected_e_w1B = np.sqrt(np.abs(1 - np.sum(mu_orth * mu_orth))) * (e_w1B - mu_B) / np.linalg.norm(e_w1 - mu_orth - mu_B)\n",
    "    corrected_e_w2B = np.sqrt(np.abs(1 - np.sum(mu_orth * mu_orth))) * (e_w2B - mu_B) / np.linalg.norm(e_w2 - mu_orth - mu_B)\n",
    "\n",
    "    e1 = corrected_e_w1B + mu_orth\n",
    "    e2 = corrected_e_w2B + mu_orth\n",
    "    return e1, e2"
   ]
  },
  {
   "cell_type": "code",
   "execution_count": null,
   "id": "b7818b55",
   "metadata": {
    "ExecuteTime": {
     "end_time": "2021-06-10T23:52:45.058633Z",
     "start_time": "2021-06-10T23:52:45.016447Z"
    }
   },
   "outputs": [],
   "source": [
    "e_w1 = model.get_vector('men')\n",
    "e_w2 = model.get_vector('woman')\n",
    "print(cosine_similarity(e_w1, g))\n",
    "print(cosine_similarity(e_w2, g))"
   ]
  },
  {
   "cell_type": "code",
   "execution_count": null,
   "id": "b9df277d",
   "metadata": {
    "ExecuteTime": {
     "end_time": "2021-06-10T23:54:56.413101Z",
     "start_time": "2021-06-10T23:54:56.388500Z"
    }
   },
   "outputs": [],
   "source": [
    "eq_w1, eq_w2 = equalize(e_w1, e_w2, g)\n",
    "print(cosine_similarity(eq_w1, g))\n",
    "print(cosine_similarity(eq_w2, g))"
   ]
  }
 ],
 "metadata": {
  "kernelspec": {
   "display_name": "Python 3",
   "language": "python",
   "name": "python3"
  },
  "language_info": {
   "codemirror_mode": {
    "name": "ipython",
    "version": 3
   },
   "file_extension": ".py",
   "mimetype": "text/x-python",
   "name": "python",
   "nbconvert_exporter": "python",
   "pygments_lexer": "ipython3",
   "version": "3.8.7"
  }
 },
 "nbformat": 4,
 "nbformat_minor": 5
}
